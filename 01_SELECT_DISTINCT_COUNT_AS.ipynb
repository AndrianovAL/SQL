{
 "cells": [
  {
   "cell_type": "markdown",
   "metadata": {},
   "source": [
    "# Intro\n",
    "__Note:__ For simplicity, we are imitating a SQL environment here by using:\n",
    "- PandaSQL package\n",
    "- local CSV file"
   ]
  },
  {
   "cell_type": "code",
   "execution_count": 2,
   "metadata": {},
   "outputs": [],
   "source": [
    "import string\n",
    "import pandas as pd\n",
    "from pandasql import sqldf\n",
    "from random import choice, random"
   ]
  },
  {
   "cell_type": "code",
   "execution_count": 18,
   "metadata": {},
   "outputs": [
    {
     "data": {
      "text/html": [
       "<div>\n",
       "<style scoped>\n",
       "    .dataframe tbody tr th:only-of-type {\n",
       "        vertical-align: middle;\n",
       "    }\n",
       "\n",
       "    .dataframe tbody tr th {\n",
       "        vertical-align: top;\n",
       "    }\n",
       "\n",
       "    .dataframe thead th {\n",
       "        text-align: right;\n",
       "    }\n",
       "</style>\n",
       "<table border=\"1\" class=\"dataframe\">\n",
       "  <thead>\n",
       "    <tr style=\"text-align: right;\">\n",
       "      <th></th>\n",
       "      <th>Name</th>\n",
       "      <th>GPA</th>\n",
       "      <th>Major</th>\n",
       "      <th>Year</th>\n",
       "    </tr>\n",
       "  </thead>\n",
       "  <tbody>\n",
       "    <tr>\n",
       "      <th>0</th>\n",
       "      <td>SHygSic</td>\n",
       "      <td>3.023112</td>\n",
       "      <td>English</td>\n",
       "      <td>3</td>\n",
       "    </tr>\n",
       "    <tr>\n",
       "      <th>1</th>\n",
       "      <td>xKDYZQQ</td>\n",
       "      <td>2.587882</td>\n",
       "      <td>Socioligy</td>\n",
       "      <td>4</td>\n",
       "    </tr>\n",
       "    <tr>\n",
       "      <th>2</th>\n",
       "      <td>ncTOrjQ</td>\n",
       "      <td>3.125083</td>\n",
       "      <td>Physics</td>\n",
       "      <td>4</td>\n",
       "    </tr>\n",
       "    <tr>\n",
       "      <th>3</th>\n",
       "      <td>mUceOKK</td>\n",
       "      <td>3.136578</td>\n",
       "      <td>Biology</td>\n",
       "      <td>2</td>\n",
       "    </tr>\n",
       "    <tr>\n",
       "      <th>4</th>\n",
       "      <td>EQYZLXe</td>\n",
       "      <td>3.182723</td>\n",
       "      <td>Math</td>\n",
       "      <td>1</td>\n",
       "    </tr>\n",
       "  </tbody>\n",
       "</table>\n",
       "</div>"
      ],
      "text/plain": [
       "      Name       GPA      Major  Year\n",
       "0  SHygSic  3.023112    English     3\n",
       "1  xKDYZQQ  2.587882  Socioligy     4\n",
       "2  ncTOrjQ  3.125083    Physics     4\n",
       "3  mUceOKK  3.136578    Biology     2\n",
       "4  EQYZLXe  3.182723       Math     1"
      ]
     },
     "execution_count": 18,
     "metadata": {},
     "output_type": "execute_result"
    }
   ],
   "source": [
    "major_choices = ['Math', 'Physics', 'Computer Science', 'English', 'History', 'Biology', 'Chemistry', 'Socioligy', 'Art']\n",
    "year_choices = [1, 2, 3, 4, 4]\n",
    "\n",
    "major_gpa_avgs = {major: random() + 2.5 for major in major_choices}\n",
    "\n",
    "n = 100_000\n",
    "names = [''.join([choice(string.ascii_letters) for _ in range(7)]) for _ in range(n)]\n",
    "majors = [choice(major_choices) for _ in range(n)]\n",
    "gpas = [min(major_gpa_avgs[major] + random() / 4.0, 4.0) for major in majors]\n",
    "years = [choice(year_choices) for _ in range(n)]\n",
    "\n",
    "student_data = pd.DataFrame(data = zip(names, gpas, majors, years), columns = ['Name', 'GPA', 'Major', 'Year'])\n",
    "student_data.head()"
   ]
  },
  {
   "cell_type": "markdown",
   "metadata": {},
   "source": [
    "# SELECT"
   ]
  },
  {
   "cell_type": "code",
   "execution_count": 19,
   "metadata": {},
   "outputs": [
    {
     "name": "stdout",
     "output_type": "stream",
     "text": [
      "      Name       GPA      Major  Year\n",
      "0  SHygSic  3.023112    English     3\n",
      "1  xKDYZQQ  2.587882  Socioligy     4\n",
      "2  ncTOrjQ  3.125083    Physics     4\n",
      "3  mUceOKK  3.136578    Biology     2\n",
      "4  EQYZLXe  3.182723       Math     1\n",
      "5  zbpbYZs  3.233008    Biology     3\n",
      "6  gSVhhFK  3.061708        Art     3\n",
      "7  uIGeYNU  3.179604       Math     3\n",
      "8  UctShmA  3.177383    English     4\n",
      "9  fZghLSu  3.188530       Math     4\n"
     ]
    }
   ],
   "source": [
    "# SELECT all data\n",
    "statement = \"SELECT * FROM student_data LIMIT 10;\"\n",
    "selected_data = sqldf(statement, globals())  # globals() allows the sqldf function access global variables one of which is the student_data dataframe\n",
    "print(selected_data)"
   ]
  },
  {
   "cell_type": "code",
   "execution_count": 20,
   "metadata": {},
   "outputs": [
    {
     "name": "stdout",
     "output_type": "stream",
     "text": [
      "      Name       GPA\n",
      "0  SHygSic  3.023112\n",
      "1  xKDYZQQ  2.587882\n",
      "2  ncTOrjQ  3.125083\n",
      "3  mUceOKK  3.136578\n",
      "4  EQYZLXe  3.182723\n",
      "5  zbpbYZs  3.233008\n",
      "6  gSVhhFK  3.061708\n",
      "7  uIGeYNU  3.179604\n",
      "8  UctShmA  3.177383\n",
      "9  fZghLSu  3.188530\n"
     ]
    }
   ],
   "source": [
    "# SELECT specific columns\n",
    "statement = \"SELECT Name, GPA FROM student_data LIMIT 10;\"\n",
    "selected_data = sqldf(statement, globals())\n",
    "print(selected_data)"
   ]
  },
  {
   "cell_type": "markdown",
   "metadata": {},
   "source": [
    "# DISTINCT"
   ]
  },
  {
   "cell_type": "code",
   "execution_count": 21,
   "metadata": {},
   "outputs": [
    {
     "name": "stdout",
     "output_type": "stream",
     "text": [
      "              Major\n",
      "0           English\n",
      "1         Socioligy\n",
      "2           Physics\n",
      "3           Biology\n",
      "4              Math\n",
      "5               Art\n",
      "6  Computer Science\n",
      "7           History\n",
      "8         Chemistry\n"
     ]
    }
   ],
   "source": [
    "# SELECT only DISTINCT values\n",
    "statement = \"SELECT DISTINCT Major FROM student_data;\"\n",
    "selected_data = sqldf(statement, globals())\n",
    "print(selected_data)"
   ]
  },
  {
   "cell_type": "markdown",
   "metadata": {},
   "source": [
    "# COUNT"
   ]
  },
  {
   "cell_type": "code",
   "execution_count": 22,
   "metadata": {},
   "outputs": [
    {
     "name": "stdout",
     "output_type": "stream",
     "text": [
      "   COUNT(DISTINCT Major)\n",
      "0                      9\n"
     ]
    }
   ],
   "source": [
    "# COUNT DISTINCT Majors\n",
    "statement = \"SELECT COUNT(DISTINCT Major) FROM student_data;\"\n",
    "selected_data = sqldf(statement, globals())\n",
    "print(selected_data)"
   ]
  },
  {
   "cell_type": "markdown",
   "metadata": {},
   "source": [
    "# AS\n",
    "Give a name to a column in the output"
   ]
  },
  {
   "cell_type": "code",
   "execution_count": 24,
   "metadata": {},
   "outputs": [
    {
     "name": "stdout",
     "output_type": "stream",
     "text": [
      "   NumMajors\n",
      "0          9\n"
     ]
    }
   ],
   "source": [
    "statement = \"SELECT COUNT(DISTINCT Major) AS NumMajors FROM student_data;\"\n",
    "selected_data = sqldf(statement, globals())\n",
    "print(selected_data)"
   ]
  },
  {
   "cell_type": "code",
   "execution_count": 25,
   "metadata": {},
   "outputs": [
    {
     "name": "stdout",
     "output_type": "stream",
     "text": [
      "   Number of Majors\n",
      "0                 9\n"
     ]
    }
   ],
   "source": [
    "statement = \"SELECT COUNT(DISTINCT Major) AS 'Number of Majors' FROM student_data;\"\n",
    "selected_data = sqldf(statement, globals())\n",
    "print(selected_data)"
   ]
  },
  {
   "cell_type": "code",
   "execution_count": 27,
   "metadata": {},
   "outputs": [
    {
     "name": "stdout",
     "output_type": "stream",
     "text": [
      "               Major  Year\n",
      "0            English     3\n",
      "1          Socioligy     4\n",
      "2            Physics     4\n",
      "3            Biology     2\n",
      "4               Math     1\n",
      "5            Biology     3\n",
      "6                Art     3\n",
      "7               Math     3\n",
      "8            English     4\n",
      "9               Math     4\n",
      "10  Computer Science     4\n",
      "11           Biology     4\n",
      "12           English     2\n",
      "13           History     2\n",
      "14               Art     1\n",
      "15  Computer Science     3\n",
      "16         Chemistry     4\n",
      "17  Computer Science     1\n",
      "18         Chemistry     1\n",
      "19         Chemistry     2\n",
      "20           Biology     1\n",
      "21              Math     2\n",
      "22               Art     2\n",
      "23         Socioligy     2\n",
      "24           History     4\n",
      "25           History     1\n",
      "26           Physics     2\n",
      "27  Computer Science     2\n",
      "28         Socioligy     3\n",
      "29           Physics     1\n",
      "30         Socioligy     1\n",
      "31               Art     4\n",
      "32         Chemistry     3\n",
      "33           History     3\n",
      "34           English     1\n",
      "35           Physics     3\n"
     ]
    }
   ],
   "source": [
    "# SELECT only DISTINCT combinations of two columns\n",
    "statement = \"SELECT DISTINCT Major, Year FROM student_data;\"\n",
    "selected_data = sqldf(statement, globals())\n",
    "print(selected_data)"
   ]
  },
  {
   "cell_type": "code",
   "execution_count": null,
   "metadata": {},
   "outputs": [],
   "source": []
  }
 ],
 "metadata": {
  "kernelspec": {
   "display_name": ".venv",
   "language": "python",
   "name": "python3"
  },
  "language_info": {
   "codemirror_mode": {
    "name": "ipython",
    "version": 3
   },
   "file_extension": ".py",
   "mimetype": "text/x-python",
   "name": "python",
   "nbconvert_exporter": "python",
   "pygments_lexer": "ipython3",
   "version": "3.13.5"
  }
 },
 "nbformat": 4,
 "nbformat_minor": 2
}
